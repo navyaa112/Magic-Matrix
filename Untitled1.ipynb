{
  "nbformat": 4,
  "nbformat_minor": 0,
  "metadata": {
    "colab": {
      "provenance": [],
      "authorship_tag": "ABX9TyOzgTB8gbHbzCZLVfLQbCgN",
      "include_colab_link": true
    },
    "kernelspec": {
      "name": "python3",
      "display_name": "Python 3"
    },
    "language_info": {
      "name": "python"
    }
  },
  "cells": [
    {
      "cell_type": "markdown",
      "metadata": {
        "id": "view-in-github",
        "colab_type": "text"
      },
      "source": [
        "<a href=\"https://colab.research.google.com/github/navyaa112/Magic-Matrix/blob/main/Untitled1.ipynb\" target=\"_parent\"><img src=\"https://colab.research.google.com/assets/colab-badge.svg\" alt=\"Open In Colab\"/></a>"
      ]
    },
    {
      "cell_type": "code",
      "execution_count": 3,
      "metadata": {
        "colab": {
          "base_uri": "https://localhost:8080/"
        },
        "id": "vTkJkW4TTKAz",
        "outputId": "1f619285-8391-474a-a3fa-cece1bd3bf49"
      },
      "outputs": [
        {
          "output_type": "stream",
          "name": "stdout",
          "text": [
            "Enter no.6\n",
            "36   2   3  33  32  31  \n",
            " 7  29  28  10  11  12  \n",
            "13  23  22  16  17  18  \n",
            "18  20  21  15  14  13  \n",
            "12  26  27   9   8   7  \n",
            " 6  32  33   3   2   1  \n"
          ]
        }
      ],
      "source": [
        "def basketodd(n):\n",
        "    bkt = [[0]*n for i in range(n)]\n",
        "     \n",
        "    num = 1\n",
        "    row = n//2\n",
        "    clm = n-1\n",
        "    \n",
        "    while(num <= (n*n)):\n",
        "        if row == -1 and clm == n:  \n",
        "            clm = n - 2\n",
        "            row = 0\n",
        "        else:\n",
        "            if clm == n:\n",
        "                clm = 0\n",
        "            if row < 0:\n",
        "                row = n - 1\n",
        " \n",
        "        if bkt[int(row)][int(clm)]: \n",
        "            clm= clm - 2\n",
        "            row= row+ 1\n",
        "            continue\n",
        "        else:\n",
        "            bkt[int(row)][int(clm)] = num\n",
        "            num = num + 1\n",
        " \n",
        "        clm = clm + 1\n",
        "        row = row - 1\n",
        " \n",
        "    for i in range(n):\n",
        "        for j in range(n):\n",
        "            print('%2d ' % (bkt[i][j]),end='')\n",
        "            if j == n - 1:\n",
        "                print()\n",
        "def basketeven(n):\n",
        "     \n",
        "    bkt = [[(n*y)+x+1 for x in range(n)]for y in range(n)]\n",
        " \n",
        "    for i in range(n//4):\n",
        "        for j in range(n//4):\n",
        "            bkt[i][j] = (n*n + 1) - bkt[i][j];\n",
        "     \n",
        "    for i in range(n//4):\n",
        "        for j in range(3 * (n//4),n):\n",
        "            bkt[i][j] = (n*n + 1) - bkt[i][j];\n",
        " \n",
        "    for i in range(3 * (n//4),n):\n",
        "        for j in range(n//4):\n",
        "            bkt[i][j] = (n*n + 1) - bkt[i][j];\n",
        "     \n",
        "    for i in range(3 * (n//4),n):\n",
        "        for j in range(3 * (n//4),n):\n",
        "            bkt[i][j] = (n*n + 1) - bkt[i][j];\n",
        "             \n",
        "    for i in range(n//4,3 * (n//4)):\n",
        "        for j in range(n//4,3 * (n//4)):\n",
        "            bkt[i][j] = (n*n + 1) - bkt[i][j];\n",
        "     \n",
        "    for i in range(n):\n",
        "        for j in range(n):\n",
        "            print ('%2d ' %(bkt[i][j]),end=\" \")\n",
        "        print()\n",
        "         \n",
        " \n",
        "n =int(input(\"Enter no.\"))\n",
        "if n % 2 == 0:\n",
        "    basketeven(n)\n"
      ]
    }
  ]
}